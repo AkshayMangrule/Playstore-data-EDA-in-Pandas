{
 "cells": [
  {
   "cell_type": "code",
   "execution_count": 63,
   "id": "ab256445",
   "metadata": {},
   "outputs": [],
   "source": [
    "import pandas as pd\n",
    "import numpy as np\n",
    "import matplotlib.pyplot as plt\n",
    "import seaborn as sns"
   ]
  },
  {
   "cell_type": "code",
   "execution_count": 64,
   "id": "af0994ad",
   "metadata": {},
   "outputs": [],
   "source": [
    "import warnings\n",
    "warnings.simplefilter('ignore')"
   ]
  },
  {
   "cell_type": "code",
   "execution_count": 65,
   "id": "69ef3865",
   "metadata": {},
   "outputs": [],
   "source": [
    "#Loading the dataset into pandas\n",
    "data=pd.read_csv(r'playstore-analysis (1).csv')"
   ]
  },
  {
   "cell_type": "code",
   "execution_count": 66,
   "id": "4301d76f",
   "metadata": {},
   "outputs": [
    {
     "name": "stdout",
     "output_type": "stream",
     "text": [
      "<class 'pandas.core.frame.DataFrame'>\n",
      "RangeIndex: 10841 entries, 0 to 10840\n",
      "Data columns (total 13 columns):\n",
      " #   Column          Non-Null Count  Dtype  \n",
      "---  ------          --------------  -----  \n",
      " 0   App             10841 non-null  object \n",
      " 1   Category        10841 non-null  object \n",
      " 2   Rating          9367 non-null   float64\n",
      " 3   Reviews         10841 non-null  object \n",
      " 4   Size            10841 non-null  float64\n",
      " 5   Installs        10841 non-null  object \n",
      " 6   Type            10840 non-null  object \n",
      " 7   Price           10841 non-null  object \n",
      " 8   Content Rating  10840 non-null  object \n",
      " 9   Genres          10841 non-null  object \n",
      " 10  Last Updated    10841 non-null  object \n",
      " 11  Current Ver     10833 non-null  object \n",
      " 12  Android Ver     10838 non-null  object \n",
      "dtypes: float64(2), object(11)\n",
      "memory usage: 1.1+ MB\n"
     ]
    }
   ],
   "source": [
    "data.info()"
   ]
  },
  {
   "cell_type": "code",
   "execution_count": 67,
   "id": "11889e37",
   "metadata": {},
   "outputs": [
    {
     "data": {
      "text/plain": [
       "array(['ART_AND_DESIGN', 'AUTO_AND_VEHICLES', 'BEAUTY',\n",
       "       'BOOKS_AND_REFERENCE', 'BUSINESS', 'COMICS', 'COMMUNICATION',\n",
       "       'DATING', 'EDUCATION', 'ENTERTAINMENT', 'EVENTS', 'FINANCE',\n",
       "       'FOOD_AND_DRINK', 'HEALTH_AND_FITNESS', 'HOUSE_AND_HOME',\n",
       "       'LIBRARIES_AND_DEMO', 'LIFESTYLE', 'GAME', 'FAMILY', 'MEDICAL',\n",
       "       'SOCIAL', 'SHOPPING', 'PHOTOGRAPHY', 'SPORTS', 'TRAVEL_AND_LOCAL',\n",
       "       'TOOLS', 'PERSONALIZATION', 'PRODUCTIVITY', 'PARENTING', 'WEATHER',\n",
       "       'VIDEO_PLAYERS', 'NEWS_AND_MAGAZINES', 'MAPS_AND_NAVIGATION',\n",
       "       '1.9'], dtype=object)"
      ]
     },
     "execution_count": 67,
     "metadata": {},
     "output_type": "execute_result"
    }
   ],
   "source": [
    "cat=data.Category.unique()\n",
    "cat"
   ]
  },
  {
   "cell_type": "code",
   "execution_count": 68,
   "id": "7818dc68",
   "metadata": {},
   "outputs": [
    {
     "data": {
      "text/html": [
       "<div>\n",
       "<style scoped>\n",
       "    .dataframe tbody tr th:only-of-type {\n",
       "        vertical-align: middle;\n",
       "    }\n",
       "\n",
       "    .dataframe tbody tr th {\n",
       "        vertical-align: top;\n",
       "    }\n",
       "\n",
       "    .dataframe thead th {\n",
       "        text-align: right;\n",
       "    }\n",
       "</style>\n",
       "<table border=\"1\" class=\"dataframe\">\n",
       "  <thead>\n",
       "    <tr style=\"text-align: right;\">\n",
       "      <th></th>\n",
       "      <th>App</th>\n",
       "      <th>Category</th>\n",
       "      <th>Rating</th>\n",
       "      <th>Reviews</th>\n",
       "      <th>Size</th>\n",
       "      <th>Installs</th>\n",
       "      <th>Type</th>\n",
       "      <th>Price</th>\n",
       "      <th>Content Rating</th>\n",
       "      <th>Genres</th>\n",
       "      <th>Last Updated</th>\n",
       "      <th>Current Ver</th>\n",
       "      <th>Android Ver</th>\n",
       "    </tr>\n",
       "  </thead>\n",
       "  <tbody>\n",
       "    <tr>\n",
       "      <th>0</th>\n",
       "      <td>Photo Editor &amp; Candy Camera &amp; Grid &amp; ScrapBook</td>\n",
       "      <td>ART_AND_DESIGN</td>\n",
       "      <td>4.1</td>\n",
       "      <td>159</td>\n",
       "      <td>19000.0</td>\n",
       "      <td>10,000+</td>\n",
       "      <td>Free</td>\n",
       "      <td>0</td>\n",
       "      <td>Everyone</td>\n",
       "      <td>Art &amp; Design</td>\n",
       "      <td>7-Jan-18</td>\n",
       "      <td>1.0.0</td>\n",
       "      <td>4.0.3 and up</td>\n",
       "    </tr>\n",
       "    <tr>\n",
       "      <th>1</th>\n",
       "      <td>Coloring book moana</td>\n",
       "      <td>ART_AND_DESIGN</td>\n",
       "      <td>3.9</td>\n",
       "      <td>967</td>\n",
       "      <td>14000.0</td>\n",
       "      <td>500,000+</td>\n",
       "      <td>Free</td>\n",
       "      <td>0</td>\n",
       "      <td>Everyone</td>\n",
       "      <td>Art &amp; Design;Pretend Play</td>\n",
       "      <td>15-Jan-18</td>\n",
       "      <td>2.0.0</td>\n",
       "      <td>4.0.3 and up</td>\n",
       "    </tr>\n",
       "    <tr>\n",
       "      <th>2</th>\n",
       "      <td>U Launcher Lite – FREE Live Cool Themes, Hide ...</td>\n",
       "      <td>ART_AND_DESIGN</td>\n",
       "      <td>4.7</td>\n",
       "      <td>87510</td>\n",
       "      <td>8700.0</td>\n",
       "      <td>5,000,000+</td>\n",
       "      <td>Free</td>\n",
       "      <td>0</td>\n",
       "      <td>Everyone</td>\n",
       "      <td>Art &amp; Design</td>\n",
       "      <td>1-Aug-18</td>\n",
       "      <td>1.2.4</td>\n",
       "      <td>4.0.3 and up</td>\n",
       "    </tr>\n",
       "    <tr>\n",
       "      <th>3</th>\n",
       "      <td>Sketch - Draw &amp; Paint</td>\n",
       "      <td>ART_AND_DESIGN</td>\n",
       "      <td>4.5</td>\n",
       "      <td>215644</td>\n",
       "      <td>25000.0</td>\n",
       "      <td>50,000,000+</td>\n",
       "      <td>Free</td>\n",
       "      <td>0</td>\n",
       "      <td>Teen</td>\n",
       "      <td>Art &amp; Design</td>\n",
       "      <td>8-Jun-18</td>\n",
       "      <td>Varies with device</td>\n",
       "      <td>4.2 and up</td>\n",
       "    </tr>\n",
       "    <tr>\n",
       "      <th>4</th>\n",
       "      <td>Pixel Draw - Number Art Coloring Book</td>\n",
       "      <td>ART_AND_DESIGN</td>\n",
       "      <td>4.3</td>\n",
       "      <td>967</td>\n",
       "      <td>2800.0</td>\n",
       "      <td>100,000+</td>\n",
       "      <td>Free</td>\n",
       "      <td>0</td>\n",
       "      <td>Everyone</td>\n",
       "      <td>Art &amp; Design;Creativity</td>\n",
       "      <td>20-Jun-18</td>\n",
       "      <td>1.1</td>\n",
       "      <td>4.4 and up</td>\n",
       "    </tr>\n",
       "  </tbody>\n",
       "</table>\n",
       "</div>"
      ],
      "text/plain": [
       "                                                 App        Category  Rating  \\\n",
       "0     Photo Editor & Candy Camera & Grid & ScrapBook  ART_AND_DESIGN     4.1   \n",
       "1                                Coloring book moana  ART_AND_DESIGN     3.9   \n",
       "2  U Launcher Lite – FREE Live Cool Themes, Hide ...  ART_AND_DESIGN     4.7   \n",
       "3                              Sketch - Draw & Paint  ART_AND_DESIGN     4.5   \n",
       "4              Pixel Draw - Number Art Coloring Book  ART_AND_DESIGN     4.3   \n",
       "\n",
       "  Reviews     Size     Installs  Type Price Content Rating  \\\n",
       "0     159  19000.0      10,000+  Free     0       Everyone   \n",
       "1     967  14000.0     500,000+  Free     0       Everyone   \n",
       "2   87510   8700.0   5,000,000+  Free     0       Everyone   \n",
       "3  215644  25000.0  50,000,000+  Free     0           Teen   \n",
       "4     967   2800.0     100,000+  Free     0       Everyone   \n",
       "\n",
       "                      Genres Last Updated         Current Ver   Android Ver  \n",
       "0               Art & Design     7-Jan-18               1.0.0  4.0.3 and up  \n",
       "1  Art & Design;Pretend Play    15-Jan-18               2.0.0  4.0.3 and up  \n",
       "2               Art & Design     1-Aug-18               1.2.4  4.0.3 and up  \n",
       "3               Art & Design     8-Jun-18  Varies with device    4.2 and up  \n",
       "4    Art & Design;Creativity    20-Jun-18                 1.1    4.4 and up  "
      ]
     },
     "execution_count": 68,
     "metadata": {},
     "output_type": "execute_result"
    }
   ],
   "source": [
    "#calling Dataset as data\n",
    "data.head()"
   ]
  },
  {
   "cell_type": "markdown",
   "id": "266aaf61",
   "metadata": {},
   "source": [
    "#                                                 Task"
   ]
  },
  {
   "cell_type": "markdown",
   "id": "d5e3473d",
   "metadata": {},
   "source": [
    "### 1. Data clean up – Missing value treatment"
   ]
  },
  {
   "cell_type": "markdown",
   "id": "49ee70a8",
   "metadata": {},
   "source": [
    "  A. Drop records where rating is missing since rating is our target/study variable"
   ]
  },
  {
   "cell_type": "code",
   "execution_count": 69,
   "id": "ea4d0708",
   "metadata": {},
   "outputs": [
    {
     "data": {
      "text/plain": [
       "App                  0\n",
       "Category             0\n",
       "Rating            1474\n",
       "Reviews              0\n",
       "Size                 0\n",
       "Installs             0\n",
       "Type                 1\n",
       "Price                0\n",
       "Content Rating       1\n",
       "Genres               0\n",
       "Last Updated         0\n",
       "Current Ver          8\n",
       "Android Ver          3\n",
       "dtype: int64"
      ]
     },
     "execution_count": 69,
     "metadata": {},
     "output_type": "execute_result"
    }
   ],
   "source": [
    "#finding the null values in rating column\n",
    "data.isnull().sum()"
   ]
  },
  {
   "cell_type": "code",
   "execution_count": 70,
   "id": "9984ed6a",
   "metadata": {},
   "outputs": [],
   "source": [
    "#Droping null values\n",
    "data.dropna(how='any', subset=['Rating'], axis=0, inplace = True)"
   ]
  },
  {
   "cell_type": "code",
   "execution_count": 71,
   "id": "224760d8",
   "metadata": {},
   "outputs": [
    {
     "data": {
      "text/plain": [
       "App               0\n",
       "Category          0\n",
       "Rating            0\n",
       "Reviews           0\n",
       "Size              0\n",
       "Installs          0\n",
       "Type              0\n",
       "Price             0\n",
       "Content Rating    1\n",
       "Genres            0\n",
       "Last Updated      0\n",
       "Current Ver       4\n",
       "Android Ver       3\n",
       "dtype: int64"
      ]
     },
     "execution_count": 71,
     "metadata": {},
     "output_type": "execute_result"
    }
   ],
   "source": [
    "#checking null Value\n",
    "data.isnull().sum()"
   ]
  },
  {
   "cell_type": "markdown",
   "id": "cdb883b7",
   "metadata": {},
   "source": [
    "  B.Check the null values for the Android Ver column. "
   ]
  },
  {
   "cell_type": "markdown",
   "id": "0f211548",
   "metadata": {},
   "source": [
    "    i. Are all 3 records having the same problem?"
   ]
  },
  {
   "cell_type": "code",
   "execution_count": 72,
   "id": "7a95357a",
   "metadata": {},
   "outputs": [
    {
     "data": {
      "text/html": [
       "<div>\n",
       "<style scoped>\n",
       "    .dataframe tbody tr th:only-of-type {\n",
       "        vertical-align: middle;\n",
       "    }\n",
       "\n",
       "    .dataframe tbody tr th {\n",
       "        vertical-align: top;\n",
       "    }\n",
       "\n",
       "    .dataframe thead th {\n",
       "        text-align: right;\n",
       "    }\n",
       "</style>\n",
       "<table border=\"1\" class=\"dataframe\">\n",
       "  <thead>\n",
       "    <tr style=\"text-align: right;\">\n",
       "      <th></th>\n",
       "      <th>App</th>\n",
       "      <th>Category</th>\n",
       "      <th>Rating</th>\n",
       "      <th>Reviews</th>\n",
       "      <th>Size</th>\n",
       "      <th>Installs</th>\n",
       "      <th>Type</th>\n",
       "      <th>Price</th>\n",
       "      <th>Content Rating</th>\n",
       "      <th>Genres</th>\n",
       "      <th>Last Updated</th>\n",
       "      <th>Current Ver</th>\n",
       "      <th>Android Ver</th>\n",
       "    </tr>\n",
       "  </thead>\n",
       "  <tbody>\n",
       "    <tr>\n",
       "      <th>4453</th>\n",
       "      <td>[substratum] Vacuum: P</td>\n",
       "      <td>PERSONALIZATION</td>\n",
       "      <td>4.4</td>\n",
       "      <td>230</td>\n",
       "      <td>11000.00000</td>\n",
       "      <td>1,000+</td>\n",
       "      <td>Paid</td>\n",
       "      <td>$1.49</td>\n",
       "      <td>Everyone</td>\n",
       "      <td>Personalization</td>\n",
       "      <td>20-Jul-18</td>\n",
       "      <td>4.4</td>\n",
       "      <td>NaN</td>\n",
       "    </tr>\n",
       "    <tr>\n",
       "      <th>4490</th>\n",
       "      <td>Pi Dark [substratum]</td>\n",
       "      <td>PERSONALIZATION</td>\n",
       "      <td>4.5</td>\n",
       "      <td>189</td>\n",
       "      <td>2100.00000</td>\n",
       "      <td>10,000+</td>\n",
       "      <td>Free</td>\n",
       "      <td>0</td>\n",
       "      <td>Everyone</td>\n",
       "      <td>Personalization</td>\n",
       "      <td>27-Mar-18</td>\n",
       "      <td>1.1</td>\n",
       "      <td>NaN</td>\n",
       "    </tr>\n",
       "    <tr>\n",
       "      <th>10472</th>\n",
       "      <td>Life Made WI-Fi Touchscreen Photo Frame</td>\n",
       "      <td>1.9</td>\n",
       "      <td>19.0</td>\n",
       "      <td>3.0M</td>\n",
       "      <td>21516.52952</td>\n",
       "      <td>Free</td>\n",
       "      <td>0</td>\n",
       "      <td>Everyone</td>\n",
       "      <td>NaN</td>\n",
       "      <td>11-Feb-18</td>\n",
       "      <td>1.0.19</td>\n",
       "      <td>4.0 and up</td>\n",
       "      <td>NaN</td>\n",
       "    </tr>\n",
       "  </tbody>\n",
       "</table>\n",
       "</div>"
      ],
      "text/plain": [
       "                                           App         Category  Rating  \\\n",
       "4453                    [substratum] Vacuum: P  PERSONALIZATION     4.4   \n",
       "4490                      Pi Dark [substratum]  PERSONALIZATION     4.5   \n",
       "10472  Life Made WI-Fi Touchscreen Photo Frame              1.9    19.0   \n",
       "\n",
       "      Reviews         Size Installs  Type     Price Content Rating  \\\n",
       "4453      230  11000.00000   1,000+  Paid    $1.49        Everyone   \n",
       "4490      189   2100.00000  10,000+  Free         0       Everyone   \n",
       "10472    3.0M  21516.52952     Free     0  Everyone            NaN   \n",
       "\n",
       "                Genres Last Updated Current Ver Android Ver  \n",
       "4453   Personalization    20-Jul-18         4.4         NaN  \n",
       "4490   Personalization    27-Mar-18         1.1         NaN  \n",
       "10472        11-Feb-18       1.0.19  4.0 and up         NaN  "
      ]
     },
     "execution_count": 72,
     "metadata": {},
     "output_type": "execute_result"
    }
   ],
   "source": [
    "#Checking Null Values in Android ver column\n",
    "data.loc[data['Android Ver'].isnull()]"
   ]
  },
  {
   "cell_type": "markdown",
   "id": "0f105722",
   "metadata": {},
   "source": [
    "    ii.Drop the 3rd record i.e. record for “Life Made WIFI …”"
   ]
  },
  {
   "cell_type": "code",
   "execution_count": 73,
   "id": "80531e97",
   "metadata": {},
   "outputs": [],
   "source": [
    "#Droping the third row\n",
    "data.drop([10472],inplace=True)"
   ]
  },
  {
   "cell_type": "code",
   "execution_count": 74,
   "id": "1a22f2e5",
   "metadata": {},
   "outputs": [
    {
     "data": {
      "text/html": [
       "<div>\n",
       "<style scoped>\n",
       "    .dataframe tbody tr th:only-of-type {\n",
       "        vertical-align: middle;\n",
       "    }\n",
       "\n",
       "    .dataframe tbody tr th {\n",
       "        vertical-align: top;\n",
       "    }\n",
       "\n",
       "    .dataframe thead th {\n",
       "        text-align: right;\n",
       "    }\n",
       "</style>\n",
       "<table border=\"1\" class=\"dataframe\">\n",
       "  <thead>\n",
       "    <tr style=\"text-align: right;\">\n",
       "      <th></th>\n",
       "      <th>App</th>\n",
       "      <th>Category</th>\n",
       "      <th>Rating</th>\n",
       "      <th>Reviews</th>\n",
       "      <th>Size</th>\n",
       "      <th>Installs</th>\n",
       "      <th>Type</th>\n",
       "      <th>Price</th>\n",
       "      <th>Content Rating</th>\n",
       "      <th>Genres</th>\n",
       "      <th>Last Updated</th>\n",
       "      <th>Current Ver</th>\n",
       "      <th>Android Ver</th>\n",
       "    </tr>\n",
       "  </thead>\n",
       "  <tbody>\n",
       "    <tr>\n",
       "      <th>4453</th>\n",
       "      <td>[substratum] Vacuum: P</td>\n",
       "      <td>PERSONALIZATION</td>\n",
       "      <td>4.4</td>\n",
       "      <td>230</td>\n",
       "      <td>11000.0</td>\n",
       "      <td>1,000+</td>\n",
       "      <td>Paid</td>\n",
       "      <td>$1.49</td>\n",
       "      <td>Everyone</td>\n",
       "      <td>Personalization</td>\n",
       "      <td>20-Jul-18</td>\n",
       "      <td>4.4</td>\n",
       "      <td>NaN</td>\n",
       "    </tr>\n",
       "    <tr>\n",
       "      <th>4490</th>\n",
       "      <td>Pi Dark [substratum]</td>\n",
       "      <td>PERSONALIZATION</td>\n",
       "      <td>4.5</td>\n",
       "      <td>189</td>\n",
       "      <td>2100.0</td>\n",
       "      <td>10,000+</td>\n",
       "      <td>Free</td>\n",
       "      <td>0</td>\n",
       "      <td>Everyone</td>\n",
       "      <td>Personalization</td>\n",
       "      <td>27-Mar-18</td>\n",
       "      <td>1.1</td>\n",
       "      <td>NaN</td>\n",
       "    </tr>\n",
       "  </tbody>\n",
       "</table>\n",
       "</div>"
      ],
      "text/plain": [
       "                         App         Category  Rating Reviews     Size  \\\n",
       "4453  [substratum] Vacuum: P  PERSONALIZATION     4.4     230  11000.0   \n",
       "4490    Pi Dark [substratum]  PERSONALIZATION     4.5     189   2100.0   \n",
       "\n",
       "     Installs  Type   Price Content Rating           Genres Last Updated  \\\n",
       "4453   1,000+  Paid  $1.49        Everyone  Personalization    20-Jul-18   \n",
       "4490  10,000+  Free       0       Everyone  Personalization    27-Mar-18   \n",
       "\n",
       "     Current Ver Android Ver  \n",
       "4453         4.4         NaN  \n",
       "4490         1.1         NaN  "
      ]
     },
     "execution_count": 74,
     "metadata": {},
     "output_type": "execute_result"
    }
   ],
   "source": [
    "#Again checking for null values in anroid ver\n",
    "data.loc[data['Android Ver'].isnull()]"
   ]
  },
  {
   "cell_type": "markdown",
   "id": "46e0ebd3",
   "metadata": {},
   "source": [
    "    iii. Replace remaining missing values with the mode"
   ]
  },
  {
   "cell_type": "code",
   "execution_count": 75,
   "id": "a10b0ee0",
   "metadata": {},
   "outputs": [],
   "source": [
    "#filling mode value in null values of android ver column\n",
    "data['Android Ver'].fillna(data['Android Ver'].mode()[0],inplace=True)"
   ]
  },
  {
   "cell_type": "code",
   "execution_count": 76,
   "id": "3cfc7f71",
   "metadata": {},
   "outputs": [
    {
     "data": {
      "text/plain": [
       "'4.1 and up'"
      ]
     },
     "execution_count": 76,
     "metadata": {},
     "output_type": "execute_result"
    }
   ],
   "source": [
    "#checking ISvalue Changed or not\n",
    "data.loc[4453]['Android Ver']"
   ]
  },
  {
   "cell_type": "markdown",
   "id": "b12bf1d6",
   "metadata": {},
   "source": [
    "  C. Current ver – replace with most common value"
   ]
  },
  {
   "cell_type": "code",
   "execution_count": 77,
   "id": "c1e3a64e",
   "metadata": {},
   "outputs": [],
   "source": [
    "data['Current Ver'].fillna(data['Current Ver'].mode()[0],inplace=True)"
   ]
  },
  {
   "cell_type": "markdown",
   "id": "cebc6ae5",
   "metadata": {},
   "source": [
    "### 2. Data clean up – correcting the data types"
   ]
  },
  {
   "cell_type": "markdown",
   "id": "71a4df1a",
   "metadata": {},
   "source": [
    "  A. Which all variables need to be brought to numeric types?"
   ]
  },
  {
   "cell_type": "markdown",
   "id": "dbea8331",
   "metadata": {},
   "source": [
    "B. Price variable – remove $ sign and convert to float"
   ]
  },
  {
   "cell_type": "code",
   "execution_count": 78,
   "id": "5fbd0fa8",
   "metadata": {},
   "outputs": [],
   "source": [
    "#Finding and assigning values for price column\n",
    "price = []\n",
    "for i in data['Price']:\n",
    "    if i[0]=='$':\n",
    "        price.append(i[1:])\n",
    "    else:\n",
    "        price.append(i)"
   ]
  },
  {
   "cell_type": "code",
   "execution_count": 80,
   "id": "bded99a1",
   "metadata": {},
   "outputs": [],
   "source": [
    "#changing the datatype of price column to replacing string valkues to float\n",
    "data.drop(labels=data[data['Price']=='Everyone'].index, inplace = True)\n",
    "data['Price']= price\n",
    "data['Price']= data['Price'].astype('float')"
   ]
  },
  {
   "cell_type": "code",
   "execution_count": 18,
   "id": "b321a0f8",
   "metadata": {},
   "outputs": [
    {
     "name": "stdout",
     "output_type": "stream",
     "text": [
      "<class 'pandas.core.frame.DataFrame'>\n",
      "Int64Index: 9366 entries, 0 to 10840\n",
      "Data columns (total 13 columns):\n",
      " #   Column          Non-Null Count  Dtype  \n",
      "---  ------          --------------  -----  \n",
      " 0   App             9366 non-null   object \n",
      " 1   Category        9366 non-null   object \n",
      " 2   Rating          9366 non-null   float64\n",
      " 3   Reviews         9366 non-null   object \n",
      " 4   Size            9366 non-null   float64\n",
      " 5   Installs        9366 non-null   object \n",
      " 6   Type            9366 non-null   object \n",
      " 7   Price           9366 non-null   float64\n",
      " 8   Content Rating  9366 non-null   object \n",
      " 9   Genres          9366 non-null   object \n",
      " 10  Last Updated    9366 non-null   object \n",
      " 11  Current Ver     9366 non-null   object \n",
      " 12  Android Ver     9366 non-null   object \n",
      "dtypes: float64(3), object(10)\n",
      "memory usage: 1.3+ MB\n"
     ]
    }
   ],
   "source": [
    "#checking the dataset is changed or not\n",
    "data.info()"
   ]
  },
  {
   "cell_type": "markdown",
   "id": "1c3823aa",
   "metadata": {},
   "source": [
    "C. Installs – remove ‘,’ and ‘+’ sign, convert to integer"
   ]
  },
  {
   "cell_type": "code",
   "execution_count": 81,
   "id": "8e21f566",
   "metadata": {},
   "outputs": [],
   "source": [
    "#Apending values in new list \n",
    "install = []\n",
    "for i in data['Installs']:\n",
    "   install.append(i.replace(' ','').replace('+','').replace(',','').strip())"
   ]
  },
  {
   "cell_type": "code",
   "execution_count": 82,
   "id": "30ce38b6",
   "metadata": {},
   "outputs": [],
   "source": [
    "#Changing datatype of installs column to integer\n",
    "data['Installs']=install\n",
    "data['Installs']=data['Installs'].astype('int')"
   ]
  },
  {
   "cell_type": "markdown",
   "id": "9dc87df9",
   "metadata": {},
   "source": [
    "D. Convert all other identified columns to numeric"
   ]
  },
  {
   "cell_type": "code",
   "execution_count": 83,
   "id": "de686491",
   "metadata": {},
   "outputs": [],
   "source": [
    "#changing Reviews column to int \n",
    "data['Reviews']=data['Reviews'].astype('int')"
   ]
  },
  {
   "cell_type": "code",
   "execution_count": 84,
   "id": "d9a24981",
   "metadata": {},
   "outputs": [
    {
     "name": "stdout",
     "output_type": "stream",
     "text": [
      "<class 'pandas.core.frame.DataFrame'>\n",
      "Int64Index: 9366 entries, 0 to 10840\n",
      "Data columns (total 13 columns):\n",
      " #   Column          Non-Null Count  Dtype  \n",
      "---  ------          --------------  -----  \n",
      " 0   App             9366 non-null   object \n",
      " 1   Category        9366 non-null   object \n",
      " 2   Rating          9366 non-null   float64\n",
      " 3   Reviews         9366 non-null   int32  \n",
      " 4   Size            9366 non-null   float64\n",
      " 5   Installs        9366 non-null   int32  \n",
      " 6   Type            9366 non-null   object \n",
      " 7   Price           9366 non-null   float64\n",
      " 8   Content Rating  9366 non-null   object \n",
      " 9   Genres          9366 non-null   object \n",
      " 10  Last Updated    9366 non-null   object \n",
      " 11  Current Ver     9366 non-null   object \n",
      " 12  Android Ver     9366 non-null   object \n",
      "dtypes: float64(3), int32(2), object(8)\n",
      "memory usage: 1.2+ MB\n"
     ]
    }
   ],
   "source": [
    "#chgecking dataset \n",
    "data.info()"
   ]
  },
  {
   "cell_type": "markdown",
   "id": "1ed01a05",
   "metadata": {},
   "source": [
    "### 3. Sanity checks – check for the following and handle accordingly"
   ]
  },
  {
   "cell_type": "markdown",
   "id": "27417495",
   "metadata": {},
   "source": [
    "A. Avg. rating should be between 1 and 5, as only these values are allowed on the play\n",
    "store."
   ]
  },
  {
   "cell_type": "markdown",
   "id": "cda387b9",
   "metadata": {},
   "source": [
    "    i. Are there any such records? Drop if so."
   ]
  },
  {
   "cell_type": "code",
   "execution_count": 85,
   "id": "5395f7b1",
   "metadata": {},
   "outputs": [
    {
     "data": {
      "text/html": [
       "<div>\n",
       "<style scoped>\n",
       "    .dataframe tbody tr th:only-of-type {\n",
       "        vertical-align: middle;\n",
       "    }\n",
       "\n",
       "    .dataframe tbody tr th {\n",
       "        vertical-align: top;\n",
       "    }\n",
       "\n",
       "    .dataframe thead th {\n",
       "        text-align: right;\n",
       "    }\n",
       "</style>\n",
       "<table border=\"1\" class=\"dataframe\">\n",
       "  <thead>\n",
       "    <tr style=\"text-align: right;\">\n",
       "      <th></th>\n",
       "      <th>App</th>\n",
       "      <th>Category</th>\n",
       "      <th>Rating</th>\n",
       "      <th>Reviews</th>\n",
       "      <th>Size</th>\n",
       "      <th>Installs</th>\n",
       "      <th>Type</th>\n",
       "      <th>Price</th>\n",
       "      <th>Content Rating</th>\n",
       "      <th>Genres</th>\n",
       "      <th>Last Updated</th>\n",
       "      <th>Current Ver</th>\n",
       "      <th>Android Ver</th>\n",
       "    </tr>\n",
       "  </thead>\n",
       "  <tbody>\n",
       "  </tbody>\n",
       "</table>\n",
       "</div>"
      ],
      "text/plain": [
       "Empty DataFrame\n",
       "Columns: [App, Category, Rating, Reviews, Size, Installs, Type, Price, Content Rating, Genres, Last Updated, Current Ver, Android Ver]\n",
       "Index: []"
      ]
     },
     "execution_count": 85,
     "metadata": {},
     "output_type": "execute_result"
    }
   ],
   "source": [
    "#cheking is there any record with less than 1 & greter than 5\n",
    "data.loc[data.Rating < 1] & data.loc[data.Rating > 5]"
   ]
  },
  {
   "cell_type": "markdown",
   "id": "0d5774f2",
   "metadata": {},
   "source": [
    "A. Reviews should not be more than installs as only those who installed can review the\n",
    "app."
   ]
  },
  {
   "cell_type": "code",
   "execution_count": 86,
   "id": "a9611720",
   "metadata": {},
   "outputs": [
    {
     "data": {
      "text/html": [
       "<div>\n",
       "<style scoped>\n",
       "    .dataframe tbody tr th:only-of-type {\n",
       "        vertical-align: middle;\n",
       "    }\n",
       "\n",
       "    .dataframe tbody tr th {\n",
       "        vertical-align: top;\n",
       "    }\n",
       "\n",
       "    .dataframe thead th {\n",
       "        text-align: right;\n",
       "    }\n",
       "</style>\n",
       "<table border=\"1\" class=\"dataframe\">\n",
       "  <thead>\n",
       "    <tr style=\"text-align: right;\">\n",
       "      <th></th>\n",
       "      <th>App</th>\n",
       "      <th>Category</th>\n",
       "      <th>Rating</th>\n",
       "      <th>Reviews</th>\n",
       "      <th>Size</th>\n",
       "      <th>Installs</th>\n",
       "      <th>Type</th>\n",
       "      <th>Price</th>\n",
       "      <th>Content Rating</th>\n",
       "      <th>Genres</th>\n",
       "      <th>Last Updated</th>\n",
       "      <th>Current Ver</th>\n",
       "      <th>Android Ver</th>\n",
       "    </tr>\n",
       "  </thead>\n",
       "  <tbody>\n",
       "    <tr>\n",
       "      <th>2454</th>\n",
       "      <td>KBA-EZ Health Guide</td>\n",
       "      <td>MEDICAL</td>\n",
       "      <td>5.0</td>\n",
       "      <td>4</td>\n",
       "      <td>25000.0</td>\n",
       "      <td>1</td>\n",
       "      <td>Free</td>\n",
       "      <td>0.00</td>\n",
       "      <td>Everyone</td>\n",
       "      <td>Medical</td>\n",
       "      <td>2-Aug-18</td>\n",
       "      <td>1.0.72</td>\n",
       "      <td>4.0.3 and up</td>\n",
       "    </tr>\n",
       "    <tr>\n",
       "      <th>5917</th>\n",
       "      <td>Ra Ga Ba</td>\n",
       "      <td>GAME</td>\n",
       "      <td>5.0</td>\n",
       "      <td>2</td>\n",
       "      <td>20000.0</td>\n",
       "      <td>1</td>\n",
       "      <td>Paid</td>\n",
       "      <td>1.49</td>\n",
       "      <td>Everyone</td>\n",
       "      <td>Arcade</td>\n",
       "      <td>8-Feb-17</td>\n",
       "      <td>1.0.4</td>\n",
       "      <td>2.3 and up</td>\n",
       "    </tr>\n",
       "    <tr>\n",
       "      <th>10697</th>\n",
       "      <td>Mu.F.O.</td>\n",
       "      <td>GAME</td>\n",
       "      <td>5.0</td>\n",
       "      <td>2</td>\n",
       "      <td>16000.0</td>\n",
       "      <td>1</td>\n",
       "      <td>Paid</td>\n",
       "      <td>0.99</td>\n",
       "      <td>Everyone</td>\n",
       "      <td>Arcade</td>\n",
       "      <td>3-Mar-17</td>\n",
       "      <td>1</td>\n",
       "      <td>2.3 and up</td>\n",
       "    </tr>\n",
       "  </tbody>\n",
       "</table>\n",
       "</div>"
      ],
      "text/plain": [
       "                       App Category  Rating  Reviews     Size  Installs  Type  \\\n",
       "2454   KBA-EZ Health Guide  MEDICAL     5.0        4  25000.0         1  Free   \n",
       "5917              Ra Ga Ba     GAME     5.0        2  20000.0         1  Paid   \n",
       "10697              Mu.F.O.     GAME     5.0        2  16000.0         1  Paid   \n",
       "\n",
       "       Price Content Rating   Genres Last Updated Current Ver   Android Ver  \n",
       "2454    0.00       Everyone  Medical     2-Aug-18      1.0.72  4.0.3 and up  \n",
       "5917    1.49       Everyone   Arcade     8-Feb-17       1.0.4    2.3 and up  \n",
       "10697   0.99       Everyone   Arcade     3-Mar-17           1    2.3 and up  "
      ]
     },
     "execution_count": 86,
     "metadata": {},
     "output_type": "execute_result"
    }
   ],
   "source": [
    "#cheking for more reviews than installs\n",
    "data.loc[data['Rating']>data['Installs']]"
   ]
  },
  {
   "cell_type": "code",
   "execution_count": 87,
   "id": "5fd5d3f7",
   "metadata": {},
   "outputs": [],
   "source": [
    "#There are 3 Records with more reviews than install\n",
    "rate = data[data['Reviews']>data['Installs']].index\n",
    "data.drop(labels=rate, inplace=True)"
   ]
  },
  {
   "cell_type": "code",
   "execution_count": 88,
   "id": "735a4555",
   "metadata": {},
   "outputs": [
    {
     "data": {
      "text/html": [
       "<div>\n",
       "<style scoped>\n",
       "    .dataframe tbody tr th:only-of-type {\n",
       "        vertical-align: middle;\n",
       "    }\n",
       "\n",
       "    .dataframe tbody tr th {\n",
       "        vertical-align: top;\n",
       "    }\n",
       "\n",
       "    .dataframe thead th {\n",
       "        text-align: right;\n",
       "    }\n",
       "</style>\n",
       "<table border=\"1\" class=\"dataframe\">\n",
       "  <thead>\n",
       "    <tr style=\"text-align: right;\">\n",
       "      <th></th>\n",
       "      <th>App</th>\n",
       "      <th>Category</th>\n",
       "      <th>Rating</th>\n",
       "      <th>Reviews</th>\n",
       "      <th>Size</th>\n",
       "      <th>Installs</th>\n",
       "      <th>Type</th>\n",
       "      <th>Price</th>\n",
       "      <th>Content Rating</th>\n",
       "      <th>Genres</th>\n",
       "      <th>Last Updated</th>\n",
       "      <th>Current Ver</th>\n",
       "      <th>Android Ver</th>\n",
       "    </tr>\n",
       "  </thead>\n",
       "  <tbody>\n",
       "  </tbody>\n",
       "</table>\n",
       "</div>"
      ],
      "text/plain": [
       "Empty DataFrame\n",
       "Columns: [App, Category, Rating, Reviews, Size, Installs, Type, Price, Content Rating, Genres, Last Updated, Current Ver, Android Ver]\n",
       "Index: []"
      ]
     },
     "execution_count": 88,
     "metadata": {},
     "output_type": "execute_result"
    }
   ],
   "source": [
    "#checking again for rewievs more than installs\n",
    "data.loc[data['Rating']>data['Installs']]"
   ]
  },
  {
   "cell_type": "markdown",
   "id": "32631cdb",
   "metadata": {},
   "source": [
    "### 4. Identify and handle outliers – "
   ]
  },
  {
   "cell_type": "markdown",
   "id": "4322705d",
   "metadata": {},
   "source": [
    "A. Price column"
   ]
  },
  {
   "cell_type": "markdown",
   "id": "4f9b31d5",
   "metadata": {},
   "source": [
    "    i. Make suitable plot to identify outliers in price"
   ]
  },
  {
   "cell_type": "code",
   "execution_count": 89,
   "id": "67b9cf3f",
   "metadata": {
    "scrolled": false
   },
   "outputs": [
    {
     "data": {
      "text/plain": [
       "<AxesSubplot:xlabel='Price'>"
      ]
     },
     "execution_count": 89,
     "metadata": {},
     "output_type": "execute_result"
    },
    {
     "data": {
      "image/png": "[encoded data removed]",
      "text/plain": [
       "<Figure size 432x288 with 1 Axes>"
      ]
     },
     "metadata": {},
     "output_type": "display_data"
    }
   ],
   "source": [
    "#ploting a box plot for checking is therte any outlier or not\n",
    "sns.set_theme(style=\"whitegrid\")\n",
    "sns.boxplot(x=data['Price'])"
   ]
  },
  {
   "cell_type": "markdown",
   "id": "c9609390",
   "metadata": {},
   "source": [
    "    ii.Do you expect apps on the play store to cost $200? Check out these cases"
   ]
  },
  {
   "cell_type": "code",
   "execution_count": 90,
   "id": "d1135a21",
   "metadata": {},
   "outputs": [
    {
     "data": {
      "text/html": [
       "<div>\n",
       "<style scoped>\n",
       "    .dataframe tbody tr th:only-of-type {\n",
       "        vertical-align: middle;\n",
       "    }\n",
       "\n",
       "    .dataframe tbody tr th {\n",
       "        vertical-align: top;\n",
       "    }\n",
       "\n",
       "    .dataframe thead th {\n",
       "        text-align: right;\n",
       "    }\n",
       "</style>\n",
       "<table border=\"1\" class=\"dataframe\">\n",
       "  <thead>\n",
       "    <tr style=\"text-align: right;\">\n",
       "      <th></th>\n",
       "      <th>App</th>\n",
       "      <th>Category</th>\n",
       "      <th>Rating</th>\n",
       "      <th>Reviews</th>\n",
       "      <th>Size</th>\n",
       "      <th>Installs</th>\n",
       "      <th>Type</th>\n",
       "      <th>Price</th>\n",
       "      <th>Content Rating</th>\n",
       "      <th>Genres</th>\n",
       "      <th>Last Updated</th>\n",
       "      <th>Current Ver</th>\n",
       "      <th>Android Ver</th>\n",
       "    </tr>\n",
       "  </thead>\n",
       "  <tbody>\n",
       "    <tr>\n",
       "      <th>4197</th>\n",
       "      <td>most expensive app (H)</td>\n",
       "      <td>FAMILY</td>\n",
       "      <td>4.3</td>\n",
       "      <td>6</td>\n",
       "      <td>1500.0</td>\n",
       "      <td>100</td>\n",
       "      <td>Paid</td>\n",
       "      <td>399.99</td>\n",
       "      <td>Everyone</td>\n",
       "      <td>Entertainment</td>\n",
       "      <td>16-Jul-18</td>\n",
       "      <td>1</td>\n",
       "      <td>7.0 and up</td>\n",
       "    </tr>\n",
       "    <tr>\n",
       "      <th>4362</th>\n",
       "      <td>💎 I'm rich</td>\n",
       "      <td>LIFESTYLE</td>\n",
       "      <td>3.8</td>\n",
       "      <td>718</td>\n",
       "      <td>26000.0</td>\n",
       "      <td>10000</td>\n",
       "      <td>Paid</td>\n",
       "      <td>399.99</td>\n",
       "      <td>Everyone</td>\n",
       "      <td>Lifestyle</td>\n",
       "      <td>11-Mar-18</td>\n",
       "      <td>1.0.0</td>\n",
       "      <td>4.4 and up</td>\n",
       "    </tr>\n",
       "    <tr>\n",
       "      <th>4367</th>\n",
       "      <td>I'm Rich - Trump Edition</td>\n",
       "      <td>LIFESTYLE</td>\n",
       "      <td>3.6</td>\n",
       "      <td>275</td>\n",
       "      <td>7300.0</td>\n",
       "      <td>10000</td>\n",
       "      <td>Paid</td>\n",
       "      <td>400.00</td>\n",
       "      <td>Everyone</td>\n",
       "      <td>Lifestyle</td>\n",
       "      <td>3-May-18</td>\n",
       "      <td>1.0.1</td>\n",
       "      <td>4.1 and up</td>\n",
       "    </tr>\n",
       "    <tr>\n",
       "      <th>5351</th>\n",
       "      <td>I am rich</td>\n",
       "      <td>LIFESTYLE</td>\n",
       "      <td>3.8</td>\n",
       "      <td>3547</td>\n",
       "      <td>1800.0</td>\n",
       "      <td>100000</td>\n",
       "      <td>Paid</td>\n",
       "      <td>399.99</td>\n",
       "      <td>Everyone</td>\n",
       "      <td>Lifestyle</td>\n",
       "      <td>12-Jan-18</td>\n",
       "      <td>2</td>\n",
       "      <td>4.0.3 and up</td>\n",
       "    </tr>\n",
       "    <tr>\n",
       "      <th>5354</th>\n",
       "      <td>I am Rich Plus</td>\n",
       "      <td>FAMILY</td>\n",
       "      <td>4.0</td>\n",
       "      <td>856</td>\n",
       "      <td>8700.0</td>\n",
       "      <td>10000</td>\n",
       "      <td>Paid</td>\n",
       "      <td>399.99</td>\n",
       "      <td>Everyone</td>\n",
       "      <td>Entertainment</td>\n",
       "      <td>19-May-18</td>\n",
       "      <td>3</td>\n",
       "      <td>4.4 and up</td>\n",
       "    </tr>\n",
       "    <tr>\n",
       "      <th>5355</th>\n",
       "      <td>I am rich VIP</td>\n",
       "      <td>LIFESTYLE</td>\n",
       "      <td>3.8</td>\n",
       "      <td>411</td>\n",
       "      <td>2600.0</td>\n",
       "      <td>10000</td>\n",
       "      <td>Paid</td>\n",
       "      <td>299.99</td>\n",
       "      <td>Everyone</td>\n",
       "      <td>Lifestyle</td>\n",
       "      <td>21-Jul-18</td>\n",
       "      <td>1.1.1</td>\n",
       "      <td>4.3 and up</td>\n",
       "    </tr>\n",
       "    <tr>\n",
       "      <th>5356</th>\n",
       "      <td>I Am Rich Premium</td>\n",
       "      <td>FINANCE</td>\n",
       "      <td>4.1</td>\n",
       "      <td>1867</td>\n",
       "      <td>4700.0</td>\n",
       "      <td>50000</td>\n",
       "      <td>Paid</td>\n",
       "      <td>399.99</td>\n",
       "      <td>Everyone</td>\n",
       "      <td>Finance</td>\n",
       "      <td>12-Nov-17</td>\n",
       "      <td>1.6</td>\n",
       "      <td>4.0 and up</td>\n",
       "    </tr>\n",
       "    <tr>\n",
       "      <th>5357</th>\n",
       "      <td>I am extremely Rich</td>\n",
       "      <td>LIFESTYLE</td>\n",
       "      <td>2.9</td>\n",
       "      <td>41</td>\n",
       "      <td>2900.0</td>\n",
       "      <td>1000</td>\n",
       "      <td>Paid</td>\n",
       "      <td>379.99</td>\n",
       "      <td>Everyone</td>\n",
       "      <td>Lifestyle</td>\n",
       "      <td>1-Jul-18</td>\n",
       "      <td>1</td>\n",
       "      <td>4.0 and up</td>\n",
       "    </tr>\n",
       "    <tr>\n",
       "      <th>5358</th>\n",
       "      <td>I am Rich!</td>\n",
       "      <td>FINANCE</td>\n",
       "      <td>3.8</td>\n",
       "      <td>93</td>\n",
       "      <td>22000.0</td>\n",
       "      <td>1000</td>\n",
       "      <td>Paid</td>\n",
       "      <td>399.99</td>\n",
       "      <td>Everyone</td>\n",
       "      <td>Finance</td>\n",
       "      <td>11-Dec-17</td>\n",
       "      <td>1</td>\n",
       "      <td>4.1 and up</td>\n",
       "    </tr>\n",
       "    <tr>\n",
       "      <th>5359</th>\n",
       "      <td>I am rich(premium)</td>\n",
       "      <td>FINANCE</td>\n",
       "      <td>3.5</td>\n",
       "      <td>472</td>\n",
       "      <td>965.0</td>\n",
       "      <td>5000</td>\n",
       "      <td>Paid</td>\n",
       "      <td>399.99</td>\n",
       "      <td>Everyone</td>\n",
       "      <td>Finance</td>\n",
       "      <td>1-May-17</td>\n",
       "      <td>3.4</td>\n",
       "      <td>4.4 and up</td>\n",
       "    </tr>\n",
       "    <tr>\n",
       "      <th>5362</th>\n",
       "      <td>I Am Rich Pro</td>\n",
       "      <td>FAMILY</td>\n",
       "      <td>4.4</td>\n",
       "      <td>201</td>\n",
       "      <td>2700.0</td>\n",
       "      <td>5000</td>\n",
       "      <td>Paid</td>\n",
       "      <td>399.99</td>\n",
       "      <td>Everyone</td>\n",
       "      <td>Entertainment</td>\n",
       "      <td>30-May-17</td>\n",
       "      <td>1.54</td>\n",
       "      <td>1.6 and up</td>\n",
       "    </tr>\n",
       "    <tr>\n",
       "      <th>5364</th>\n",
       "      <td>I am rich (Most expensive app)</td>\n",
       "      <td>FINANCE</td>\n",
       "      <td>4.1</td>\n",
       "      <td>129</td>\n",
       "      <td>2700.0</td>\n",
       "      <td>1000</td>\n",
       "      <td>Paid</td>\n",
       "      <td>399.99</td>\n",
       "      <td>Teen</td>\n",
       "      <td>Finance</td>\n",
       "      <td>6-Dec-17</td>\n",
       "      <td>2</td>\n",
       "      <td>4.0.3 and up</td>\n",
       "    </tr>\n",
       "    <tr>\n",
       "      <th>5366</th>\n",
       "      <td>I Am Rich</td>\n",
       "      <td>FAMILY</td>\n",
       "      <td>3.6</td>\n",
       "      <td>217</td>\n",
       "      <td>4900.0</td>\n",
       "      <td>10000</td>\n",
       "      <td>Paid</td>\n",
       "      <td>389.99</td>\n",
       "      <td>Everyone</td>\n",
       "      <td>Entertainment</td>\n",
       "      <td>22-Jun-18</td>\n",
       "      <td>1.5</td>\n",
       "      <td>4.2 and up</td>\n",
       "    </tr>\n",
       "    <tr>\n",
       "      <th>5369</th>\n",
       "      <td>I am Rich</td>\n",
       "      <td>FINANCE</td>\n",
       "      <td>4.3</td>\n",
       "      <td>180</td>\n",
       "      <td>3800.0</td>\n",
       "      <td>5000</td>\n",
       "      <td>Paid</td>\n",
       "      <td>399.99</td>\n",
       "      <td>Everyone</td>\n",
       "      <td>Finance</td>\n",
       "      <td>22-Mar-18</td>\n",
       "      <td>1</td>\n",
       "      <td>4.2 and up</td>\n",
       "    </tr>\n",
       "    <tr>\n",
       "      <th>5373</th>\n",
       "      <td>I AM RICH PRO PLUS</td>\n",
       "      <td>FINANCE</td>\n",
       "      <td>4.0</td>\n",
       "      <td>36</td>\n",
       "      <td>41000.0</td>\n",
       "      <td>1000</td>\n",
       "      <td>Paid</td>\n",
       "      <td>399.99</td>\n",
       "      <td>Everyone</td>\n",
       "      <td>Finance</td>\n",
       "      <td>25-Jun-18</td>\n",
       "      <td>1.0.2</td>\n",
       "      <td>4.1 and up</td>\n",
       "    </tr>\n",
       "  </tbody>\n",
       "</table>\n",
       "</div>"
      ],
      "text/plain": [
       "                                 App   Category  Rating  Reviews     Size  \\\n",
       "4197          most expensive app (H)     FAMILY     4.3        6   1500.0   \n",
       "4362                      💎 I'm rich  LIFESTYLE     3.8      718  26000.0   \n",
       "4367        I'm Rich - Trump Edition  LIFESTYLE     3.6      275   7300.0   \n",
       "5351                       I am rich  LIFESTYLE     3.8     3547   1800.0   \n",
       "5354                  I am Rich Plus     FAMILY     4.0      856   8700.0   \n",
       "5355                   I am rich VIP  LIFESTYLE     3.8      411   2600.0   \n",
       "5356               I Am Rich Premium    FINANCE     4.1     1867   4700.0   \n",
       "5357             I am extremely Rich  LIFESTYLE     2.9       41   2900.0   \n",
       "5358                      I am Rich!    FINANCE     3.8       93  22000.0   \n",
       "5359              I am rich(premium)    FINANCE     3.5      472    965.0   \n",
       "5362                   I Am Rich Pro     FAMILY     4.4      201   2700.0   \n",
       "5364  I am rich (Most expensive app)    FINANCE     4.1      129   2700.0   \n",
       "5366                       I Am Rich     FAMILY     3.6      217   4900.0   \n",
       "5369                       I am Rich    FINANCE     4.3      180   3800.0   \n",
       "5373              I AM RICH PRO PLUS    FINANCE     4.0       36  41000.0   \n",
       "\n",
       "      Installs  Type   Price Content Rating         Genres Last Updated  \\\n",
       "4197       100  Paid  399.99       Everyone  Entertainment    16-Jul-18   \n",
       "4362     10000  Paid  399.99       Everyone      Lifestyle    11-Mar-18   \n",
       "4367     10000  Paid  400.00       Everyone      Lifestyle     3-May-18   \n",
       "5351    100000  Paid  399.99       Everyone      Lifestyle    12-Jan-18   \n",
       "5354     10000  Paid  399.99       Everyone  Entertainment    19-May-18   \n",
       "5355     10000  Paid  299.99       Everyone      Lifestyle    21-Jul-18   \n",
       "5356     50000  Paid  399.99       Everyone        Finance    12-Nov-17   \n",
       "5357      1000  Paid  379.99       Everyone      Lifestyle     1-Jul-18   \n",
       "5358      1000  Paid  399.99       Everyone        Finance    11-Dec-17   \n",
       "5359      5000  Paid  399.99       Everyone        Finance     1-May-17   \n",
       "5362      5000  Paid  399.99       Everyone  Entertainment    30-May-17   \n",
       "5364      1000  Paid  399.99           Teen        Finance     6-Dec-17   \n",
       "5366     10000  Paid  389.99       Everyone  Entertainment    22-Jun-18   \n",
       "5369      5000  Paid  399.99       Everyone        Finance    22-Mar-18   \n",
       "5373      1000  Paid  399.99       Everyone        Finance    25-Jun-18   \n",
       "\n",
       "     Current Ver   Android Ver  \n",
       "4197           1    7.0 and up  \n",
       "4362       1.0.0    4.4 and up  \n",
       "4367       1.0.1    4.1 and up  \n",
       "5351           2  4.0.3 and up  \n",
       "5354           3    4.4 and up  \n",
       "5355       1.1.1    4.3 and up  \n",
       "5356         1.6    4.0 and up  \n",
       "5357           1    4.0 and up  \n",
       "5358           1    4.1 and up  \n",
       "5359         3.4    4.4 and up  \n",
       "5362        1.54    1.6 and up  \n",
       "5364           2  4.0.3 and up  \n",
       "5366         1.5    4.2 and up  \n",
       "5369           1    4.2 and up  \n",
       "5373       1.0.2    4.1 and up  "
      ]
     },
     "execution_count": 90,
     "metadata": {},
     "output_type": "execute_result"
    }
   ],
   "source": [
    "data.loc[data['Price']>200]"
   ]
  },
  {
   "cell_type": "markdown",
   "id": "6dab7c59",
   "metadata": {},
   "source": [
    "    iii. After dropping the useless records, make the suitable plot again to identify outliers"
   ]
  },
  {
   "cell_type": "code",
   "execution_count": 91,
   "id": "c710091f",
   "metadata": {},
   "outputs": [
    {
     "data": {
      "text/plain": [
       "<AxesSubplot:xlabel='Price'>"
      ]
     },
     "execution_count": 91,
     "metadata": {},
     "output_type": "execute_result"
    },
    {
     "data": {
      "image/png": "[encoded data removed]",
      "text/plain": [
       "<Figure size 432x288 with 1 Axes>"
      ]
     },
     "metadata": {},
     "output_type": "display_data"
    }
   ],
   "source": [
    "#after doing Changes checking plot for outliers\n",
    "sns.set_theme(style=\"whitegrid\")\n",
    "sns.boxplot(x=data['Price'])"
   ]
  },
  {
   "cell_type": "markdown",
   "id": "b66dc6b2",
   "metadata": {},
   "source": [
    "    iv. Limit data to records with price < $30"
   ]
  },
  {
   "cell_type": "code",
   "execution_count": 92,
   "id": "de8fa835",
   "metadata": {},
   "outputs": [],
   "source": [
    "#limiting data to only 30$ only\n",
    "Pric30=data[data['Price']>30].index\n",
    "data.drop(labels=Pric30,inplace=True)\n"
   ]
  },
  {
   "cell_type": "code",
   "execution_count": 93,
   "id": "2079fc7f",
   "metadata": {},
   "outputs": [
    {
     "data": {
      "text/plain": [
       "0"
      ]
     },
     "execution_count": 93,
     "metadata": {},
     "output_type": "execute_result"
    }
   ],
   "source": [
    "#cheking is there any record with lessthan 30 $\n",
    "count=data.loc[data['Price']>30].index\n",
    "count.value_counts().sum()"
   ]
  },
  {
   "cell_type": "markdown",
   "id": "2bcbb420",
   "metadata": {},
   "source": [
    "  B. Reviews column "
   ]
  },
  {
   "cell_type": "markdown",
   "id": "180ccc5e",
   "metadata": {},
   "source": [
    "    i. Make suitable plot"
   ]
  },
  {
   "cell_type": "code",
   "execution_count": 94,
   "id": "3695074d",
   "metadata": {},
   "outputs": [
    {
     "data": {
      "text/plain": [
       "<AxesSubplot:xlabel='Reviews'>"
      ]
     },
     "execution_count": 94,
     "metadata": {},
     "output_type": "execute_result"
    },
    {
     "data": {
      "image/png": "[encoded data removed]",
      "text/plain": [
       "<Figure size 432x288 with 1 Axes>"
      ]
     },
     "metadata": {},
     "output_type": "display_data"
    }
   ],
   "source": [
    "#ploting a distplot foe Reviews column(series) and using theme ticks\n",
    "sns.set_theme(style=\"whitegrid\")\n",
    "sns.distplot(data['Reviews'] , kde=False)"
   ]
  },
  {
   "cell_type": "markdown",
   "id": "dbb498f0",
   "metadata": {},
   "source": [
    "    ii. Limit data to apps with < 1 Million reviews"
   ]
  },
  {
   "cell_type": "code",
   "execution_count": 95,
   "id": "07cdaa81",
   "metadata": {},
   "outputs": [],
   "source": [
    "#finding and droping apps with less than 1 mil reviews\n",
    "mil=data[data['Reviews']>1000000].index\n",
    "data.drop(labels=mil,inplace=True)\n",
    "newdataframe=df[df['reviews']]"
   ]
  },
  {
   "cell_type": "code",
   "execution_count": 96,
   "id": "40c1bc0d",
   "metadata": {},
   "outputs": [
    {
     "data": {
      "text/plain": [
       "0"
      ]
     },
     "execution_count": 96,
     "metadata": {},
     "output_type": "execute_result"
    }
   ],
   "source": [
    "#checking is there any app with lessthan 1mil reviews\n",
    "count=data.loc[data['Reviews']>10000000].index\n",
    "count.value_counts().sum()"
   ]
  },
  {
   "cell_type": "markdown",
   "id": "540cbd64",
   "metadata": {},
   "source": [
    "  C. Installs"
   ]
  },
  {
   "cell_type": "markdown",
   "id": "700d011f",
   "metadata": {},
   "source": [
    "    i. What is the 95th percentile of the installs?"
   ]
  },
  {
   "cell_type": "code",
   "execution_count": 97,
   "id": "9f7b8451",
   "metadata": {},
   "outputs": [
    {
     "data": {
      "text/plain": [
       "10000000.0"
      ]
     },
     "execution_count": 97,
     "metadata": {},
     "output_type": "execute_result"
    }
   ],
   "source": [
    "#printing the 95 persentile of the install column\n",
    "Q95=data['Installs'].quantile(0.95)\n",
    "Q95"
   ]
  },
  {
   "cell_type": "markdown",
   "id": "fc5bb0d1",
   "metadata": {},
   "source": [
    "    ii. Drop records having a value more than the 95th percentile"
   ]
  },
  {
   "cell_type": "code",
   "execution_count": 98,
   "id": "48edbea5",
   "metadata": {},
   "outputs": [],
   "source": [
    "#Droping the apps whose installs are more than 95 Persentile\n",
    "Q9=data[data['Installs']>Q95].index\n",
    "data.drop(labels=Q9,inplace=True)"
   ]
  },
  {
   "cell_type": "code",
   "execution_count": 99,
   "id": "35fb6442",
   "metadata": {},
   "outputs": [
    {
     "data": {
      "text/plain": [
       "0"
      ]
     },
     "execution_count": 99,
     "metadata": {},
     "output_type": "execute_result"
    }
   ],
   "source": [
    "#checking is there any apps with more than 95 persentile  Installs\n",
    "count=data.loc[data['Installs']>Q95].index\n",
    "count.value_counts().sum()"
   ]
  },
  {
   "cell_type": "markdown",
   "id": "1e5bdab9",
   "metadata": {},
   "source": [
    "# Data analysis to answer business questions"
   ]
  },
  {
   "cell_type": "markdown",
   "id": "e3436751",
   "metadata": {},
   "source": [
    "### 5. What is the distribution of ratings like? (use Seaborn) More skewed towards higher/lower values?"
   ]
  },
  {
   "cell_type": "markdown",
   "id": "3a49d8c5",
   "metadata": {},
   "source": [
    "  A. How do you explain this?"
   ]
  },
  {
   "cell_type": "code",
   "execution_count": 100,
   "id": "6895d992",
   "metadata": {},
   "outputs": [
    {
     "name": "stdout",
     "output_type": "stream",
     "text": [
      "The skeweness of the Rating plot is  -1.7434270330647985\n",
      "The Median of this distribution 4.3 is greater than mean 4.170800237107298 of this distribution\n"
     ]
    },
    {
     "data": {
      "image/png": "[encoded data removed]",
      "text/plain": [
       "<Figure size 432x288 with 1 Axes>"
      ]
     },
     "metadata": {},
     "output_type": "display_data"
    }
   ],
   "source": [
    "sns.distplot(data['Rating'],color='r')\n",
    "ske=data['Rating'].skew()\n",
    "print('The skeweness of the Rating plot is ',ske)\n",
    "print('The Median of this distribution {} is greater than mean {} of this distribution'\n",
    "      .format(data.Rating.median(),data.Rating.mean()))\n",
    "plt.show()"
   ]
  },
  {
   "cell_type": "markdown",
   "id": "b2806bd8",
   "metadata": {},
   "source": [
    "    b. What is the implication of this on your analysis?"
   ]
  },
  {
   "cell_type": "code",
   "execution_count": 101,
   "id": "d0db2fd7",
   "metadata": {},
   "outputs": [
    {
     "data": {
      "text/plain": [
       "0    4.3\n",
       "dtype: float64"
      ]
     },
     "execution_count": 101,
     "metadata": {},
     "output_type": "execute_result"
    }
   ],
   "source": [
    "data['Rating'].mode()"
   ]
  },
  {
   "cell_type": "markdown",
   "id": "d6c832c0",
   "metadata": {},
   "source": [
    "###  6. What are the top Content Rating values?"
   ]
  },
  {
   "cell_type": "markdown",
   "id": "13eb7548",
   "metadata": {},
   "source": [
    "  A. Are there any values with very few records?"
   ]
  },
  {
   "cell_type": "code",
   "execution_count": 102,
   "id": "1ccd8318",
   "metadata": {},
   "outputs": [
    {
     "data": {
      "text/plain": [
       "Everyone           6782\n",
       "Teen                900\n",
       "Mature 17+          417\n",
       "Everyone 10+        332\n",
       "Adults only 18+       3\n",
       "Unrated               1\n",
       "Name: Content Rating, dtype: int64"
      ]
     },
     "execution_count": 102,
     "metadata": {},
     "output_type": "execute_result"
    }
   ],
   "source": [
    "data['Content Rating'].value_counts()"
   ]
  },
  {
   "cell_type": "markdown",
   "id": "bea26267",
   "metadata": {},
   "source": [
    "    There is Adults only 18+ and Unrated are values with very few records so we are droping them"
   ]
  },
  {
   "cell_type": "markdown",
   "id": "9cb0def8",
   "metadata": {},
   "source": [
    "  B. If yes, drop those as they won’t help in the analysis"
   ]
  },
  {
   "cell_type": "code",
   "execution_count": 103,
   "id": "e82a8fc7",
   "metadata": {},
   "outputs": [],
   "source": [
    "#replacing adults 18+ and unrated with NaN\n",
    "temp = []\n",
    "for i in data['Content Rating']:\n",
    "    temp.append(i.replace('Adults only 18+','NaN').replace('Unrated','NaN'))\n",
    "\n",
    "data['Content Rating']=temp"
   ]
  },
  {
   "cell_type": "code",
   "execution_count": 104,
   "id": "47c3b6f1",
   "metadata": {},
   "outputs": [],
   "source": [
    "# Droping the NaN values.\n",
    "temp2 = data[data[\"Content Rating\"] == 'NaN'].index\n",
    "data.drop(labels=temp2, inplace=True)"
   ]
  },
  {
   "cell_type": "code",
   "execution_count": 105,
   "id": "fc9ba8e0",
   "metadata": {},
   "outputs": [
    {
     "data": {
      "text/plain": [
       "Everyone        6782\n",
       "Teen             900\n",
       "Mature 17+       417\n",
       "Everyone 10+     332\n",
       "Name: Content Rating, dtype: int64"
      ]
     },
     "execution_count": 105,
     "metadata": {},
     "output_type": "execute_result"
    }
   ],
   "source": [
    "#cheking the Counts of content rating column\n",
    "data['Content Rating'].value_counts()"
   ]
  },
  {
   "cell_type": "markdown",
   "id": "8145d176",
   "metadata": {},
   "source": [
    "### 7. Effect of size on rating"
   ]
  },
  {
   "cell_type": "markdown",
   "id": "d2f17d8e",
   "metadata": {},
   "source": [
    "  A. Make a joinplot to understand the effect of size on rating"
   ]
  },
  {
   "cell_type": "code",
   "execution_count": 106,
   "id": "fea5a543",
   "metadata": {},
   "outputs": [
    {
     "data": {
      "image/png": "[encoded data removed]",
      "text/plain": [
       "<Figure size 432x432 with 3 Axes>"
      ]
     },
     "metadata": {},
     "output_type": "display_data"
    }
   ],
   "source": [
    "#ploting the jaoint plot for size vs ratings\n",
    "sns.jointplot(y ='Size', x ='Rating', data = data, kind ='hex')\n",
    "plt.show()"
   ]
  },
  {
   "cell_type": "markdown",
   "id": "ff2c052c",
   "metadata": {},
   "source": [
    "B. Do you see any patterns?"
   ]
  },
  {
   "cell_type": "markdown",
   "id": "e7424c76",
   "metadata": {},
   "source": [
    "* Yes, there is a pattern between size and Ratings .\n",
    "* That is at 20000bits and 4.0 to 4.5 ratings there is correlation in size in ratings."
   ]
  },
  {
   "cell_type": "markdown",
   "id": "f8ba19b9",
   "metadata": {},
   "source": [
    "C. How do you explain the pattern?"
   ]
  },
  {
   "cell_type": "markdown",
   "id": "7475b509",
   "metadata": {},
   "source": [
    "* When the Rating is increasing then the size of apps also increasing.\n",
    "* but for the Rating when the rating is higher there is constant size."
   ]
  },
  {
   "cell_type": "markdown",
   "id": "601d1f2e",
   "metadata": {},
   "source": [
    "### 8. Effect of price on rating"
   ]
  },
  {
   "cell_type": "markdown",
   "id": "09e59d3e",
   "metadata": {},
   "source": [
    "  A. Make a jointplot (with regression line)"
   ]
  },
  {
   "cell_type": "code",
   "execution_count": 107,
   "id": "704362e7",
   "metadata": {},
   "outputs": [
    {
     "data": {
      "image/png": "[encoded data removed]",
      "text/plain": [
       "<Figure size 432x432 with 3 Axes>"
      ]
     },
     "metadata": {},
     "output_type": "display_data"
    }
   ],
   "source": [
    "#ploting the jointplot foe price vs Ratings\n",
    "sns.jointplot(x='Price', y='Rating', data=data, kind='reg')\n",
    "plt.show()"
   ]
  },
  {
   "cell_type": "markdown",
   "id": "ece55ad5",
   "metadata": {},
   "source": [
    "  B. What pattern do you see?"
   ]
  },
  {
   "cell_type": "markdown",
   "id": "6750c8c9",
   "metadata": {},
   "source": [
    "* When the increasing of price ,Ratings are almost same there isnt any changes"
   ]
  },
  {
   "cell_type": "markdown",
   "id": "a8284289",
   "metadata": {},
   "source": [
    "C. How do you explain the pattern?"
   ]
  },
  {
   "cell_type": "markdown",
   "id": "6259bc7b",
   "metadata": {},
   "source": [
    "* When Price is increasing, Rating remains almost constant greater than 3.5. \n",
    "* So it can be concluded that their is very weak Positive correlation between Rating and Price"
   ]
  },
  {
   "cell_type": "code",
   "execution_count": 108,
   "id": "e14d9fc9",
   "metadata": {},
   "outputs": [
    {
     "data": {
      "text/html": [
       "<div>\n",
       "<style scoped>\n",
       "    .dataframe tbody tr th:only-of-type {\n",
       "        vertical-align: middle;\n",
       "    }\n",
       "\n",
       "    .dataframe tbody tr th {\n",
       "        vertical-align: top;\n",
       "    }\n",
       "\n",
       "    .dataframe thead th {\n",
       "        text-align: right;\n",
       "    }\n",
       "</style>\n",
       "<table border=\"1\" class=\"dataframe\">\n",
       "  <thead>\n",
       "    <tr style=\"text-align: right;\">\n",
       "      <th></th>\n",
       "      <th>Rating</th>\n",
       "      <th>Reviews</th>\n",
       "      <th>Size</th>\n",
       "      <th>Installs</th>\n",
       "      <th>Price</th>\n",
       "    </tr>\n",
       "  </thead>\n",
       "  <tbody>\n",
       "    <tr>\n",
       "      <th>Rating</th>\n",
       "      <td>1.000000</td>\n",
       "      <td>0.158547</td>\n",
       "      <td>0.058076</td>\n",
       "      <td>0.118414</td>\n",
       "      <td>0.031479</td>\n",
       "    </tr>\n",
       "    <tr>\n",
       "      <th>Reviews</th>\n",
       "      <td>0.158547</td>\n",
       "      <td>1.000000</td>\n",
       "      <td>0.204667</td>\n",
       "      <td>0.736038</td>\n",
       "      <td>-0.073446</td>\n",
       "    </tr>\n",
       "    <tr>\n",
       "      <th>Size</th>\n",
       "      <td>0.058076</td>\n",
       "      <td>0.204667</td>\n",
       "      <td>1.000000</td>\n",
       "      <td>0.190741</td>\n",
       "      <td>-0.001054</td>\n",
       "    </tr>\n",
       "    <tr>\n",
       "      <th>Installs</th>\n",
       "      <td>0.118414</td>\n",
       "      <td>0.736038</td>\n",
       "      <td>0.190741</td>\n",
       "      <td>1.000000</td>\n",
       "      <td>-0.110507</td>\n",
       "    </tr>\n",
       "    <tr>\n",
       "      <th>Price</th>\n",
       "      <td>0.031479</td>\n",
       "      <td>-0.073446</td>\n",
       "      <td>-0.001054</td>\n",
       "      <td>-0.110507</td>\n",
       "      <td>1.000000</td>\n",
       "    </tr>\n",
       "  </tbody>\n",
       "</table>\n",
       "</div>"
      ],
      "text/plain": [
       "            Rating   Reviews      Size  Installs     Price\n",
       "Rating    1.000000  0.158547  0.058076  0.118414  0.031479\n",
       "Reviews   0.158547  1.000000  0.204667  0.736038 -0.073446\n",
       "Size      0.058076  0.204667  1.000000  0.190741 -0.001054\n",
       "Installs  0.118414  0.736038  0.190741  1.000000 -0.110507\n",
       "Price     0.031479 -0.073446 -0.001054 -0.110507  1.000000"
      ]
     },
     "execution_count": 108,
     "metadata": {},
     "output_type": "execute_result"
    }
   ],
   "source": [
    "data.corr()"
   ]
  },
  {
   "cell_type": "markdown",
   "id": "0ff3f8cf",
   "metadata": {},
   "source": [
    "  D. Replot the data, this time with only records with price > 0"
   ]
  },
  {
   "cell_type": "code",
   "execution_count": 109,
   "id": "e0618b06",
   "metadata": {},
   "outputs": [
    {
     "data": {
      "image/png": "[encoded data removed]",
      "text/plain": [
       "<Figure size 432x432 with 3 Axes>"
      ]
     },
     "metadata": {},
     "output_type": "display_data"
    }
   ],
   "source": [
    "price0=data.loc[data.Price>0]\n",
    "sns.jointplot(x='Price', y='Rating', data=price0, kind='reg')\n",
    "plt.show()"
   ]
  },
  {
   "cell_type": "markdown",
   "id": "5aaf5ee5",
   "metadata": {},
   "source": [
    "  E. Does the pattern change?"
   ]
  },
  {
   "cell_type": "markdown",
   "id": "4a1611fa",
   "metadata": {},
   "source": [
    "* Yes, On limiting the record with Price > 0, \n",
    "* the overall pattern changed a slight ie their is very weakly Negative Correlation between Price and Rating."
   ]
  },
  {
   "cell_type": "markdown",
   "id": "9d2678e0",
   "metadata": {},
   "source": [
    "  F. What is your overall inference on the effect of price on the rating"
   ]
  },
  {
   "cell_type": "markdown",
   "id": "1c5f1753",
   "metadata": {},
   "source": [
    "* So increasing the Prices, doesn't have signifcant effect on Higher Rating.\n",
    "* For Higher Price, Rating is High and almost constant and greater than 3.5."
   ]
  },
  {
   "cell_type": "markdown",
   "id": "dd04547a",
   "metadata": {},
   "source": [
    "### 9. Look at all the numeric interactions together –"
   ]
  },
  {
   "cell_type": "markdown",
   "id": "8a45f166",
   "metadata": {},
   "source": [
    "  A. Make a pairplort with the colulmns - 'Reviews', 'Size', 'Rating', 'Price'"
   ]
  },
  {
   "cell_type": "code",
   "execution_count": 110,
   "id": "cecb6e81",
   "metadata": {},
   "outputs": [
    {
     "data": {
      "image/png": "[encoded data removed]",
      "text/plain": [
       "<Figure size 720x720 with 20 Axes>"
      ]
     },
     "metadata": {},
     "output_type": "display_data"
    }
   ],
   "source": [
    "#ploting the pairplot for reviews ,size,Rating and Price\n",
    "sns.pairplot(data, vars=['Reviews', 'Size', 'Rating', 'Price'], kind='reg')\n",
    "plt.show()"
   ]
  },
  {
   "cell_type": "markdown",
   "id": "0ce103d6",
   "metadata": {},
   "source": [
    "### 10. Rating vs. content rating"
   ]
  },
  {
   "cell_type": "markdown",
   "id": "f0fd2b59",
   "metadata": {},
   "source": [
    "  a. Make a bar plot displaying the rating for each content rating"
   ]
  },
  {
   "cell_type": "code",
   "execution_count": 111,
   "id": "4f75ca18",
   "metadata": {},
   "outputs": [
    {
     "data": {
      "image/png": "[encoded data removed]",
      "text/plain": [
       "<Figure size 432x288 with 1 Axes>"
      ]
     },
     "metadata": {},
     "output_type": "display_data"
    }
   ],
   "source": [
    "#ploting a bar plot and taking count of the Content ratings in x axis\n",
    "data.groupby(['Content Rating'])['Rating'].count().plot.bar(color='blue')\n",
    "plt.show()"
   ]
  },
  {
   "cell_type": "markdown",
   "id": "a4419699",
   "metadata": {},
   "source": [
    "  B. Which metric would you use? Mean? Median? Some other quantile?"
   ]
  },
  {
   "cell_type": "markdown",
   "id": "47906bdd",
   "metadata": {},
   "source": [
    "* We can use Median in this case as we are having Outliers in Rating columns.\n",
    "* Because in case of Outliers , median is the best measure of central tendency."
   ]
  },
  {
   "cell_type": "code",
   "execution_count": 112,
   "id": "f75ebd65",
   "metadata": {},
   "outputs": [
    {
     "data": {
      "image/png": "[encoded data removed]",
      "text/plain": [
       "<Figure size 432x288 with 1 Axes>"
      ]
     },
     "metadata": {},
     "output_type": "display_data"
    }
   ],
   "source": [
    "plt.boxplot(data['Rating'])\n",
    "plt.show()"
   ]
  },
  {
   "cell_type": "markdown",
   "id": "2c94a7d7",
   "metadata": {},
   "source": [
    "  c. Choose the right metric and plot"
   ]
  },
  {
   "cell_type": "code",
   "execution_count": 113,
   "id": "bd5f7553",
   "metadata": {},
   "outputs": [
    {
     "data": {
      "image/png": "[encoded data removed]",
      "text/plain": [
       "<Figure size 432x288 with 1 Axes>"
      ]
     },
     "metadata": {},
     "output_type": "display_data"
    }
   ],
   "source": [
    "#Ploting the Barpolt for Content ratings vs Ratings\n",
    "data.groupby([\"Content Rating\"])['Installs'].median().plot.barh(color=\"Green\")\n",
    "plt.show()"
   ]
  },
  {
   "cell_type": "markdown",
   "id": "e29719e4",
   "metadata": {},
   "source": [
    "###  11. Content rating vs. size vs. rating – 3 variables at a time"
   ]
  },
  {
   "cell_type": "markdown",
   "id": "643b1b7b",
   "metadata": {},
   "source": [
    "  A. Create 5 buckets (20% records in each) based on Size"
   ]
  },
  {
   "cell_type": "code",
   "execution_count": 118,
   "id": "e275f8e8",
   "metadata": {},
   "outputs": [
    {
     "data": {
      "text/html": [
       "<div>\n",
       "<style scoped>\n",
       "    .dataframe tbody tr th:only-of-type {\n",
       "        vertical-align: middle;\n",
       "    }\n",
       "\n",
       "    .dataframe tbody tr th {\n",
       "        vertical-align: top;\n",
       "    }\n",
       "\n",
       "    .dataframe thead th {\n",
       "        text-align: right;\n",
       "    }\n",
       "</style>\n",
       "<table border=\"1\" class=\"dataframe\">\n",
       "  <thead>\n",
       "    <tr style=\"text-align: right;\">\n",
       "      <th>Content Rating</th>\n",
       "      <th>Everyone</th>\n",
       "      <th>Everyone 10+</th>\n",
       "      <th>Mature 17+</th>\n",
       "      <th>Teen</th>\n",
       "    </tr>\n",
       "    <tr>\n",
       "      <th>Bucket Size</th>\n",
       "      <th></th>\n",
       "      <th></th>\n",
       "      <th></th>\n",
       "      <th></th>\n",
       "    </tr>\n",
       "  </thead>\n",
       "  <tbody>\n",
       "    <tr>\n",
       "      <th>0k=20k</th>\n",
       "      <td>4.145730</td>\n",
       "      <td>4.247561</td>\n",
       "      <td>4.010582</td>\n",
       "      <td>4.182240</td>\n",
       "    </tr>\n",
       "    <tr>\n",
       "      <th>20k-40k</th>\n",
       "      <td>4.200195</td>\n",
       "      <td>4.169811</td>\n",
       "      <td>4.156291</td>\n",
       "      <td>4.170432</td>\n",
       "    </tr>\n",
       "    <tr>\n",
       "      <th>40k-60k</th>\n",
       "      <td>4.167083</td>\n",
       "      <td>4.263636</td>\n",
       "      <td>4.190476</td>\n",
       "      <td>4.237383</td>\n",
       "    </tr>\n",
       "    <tr>\n",
       "      <th>60k-80k</th>\n",
       "      <td>4.245408</td>\n",
       "      <td>4.280769</td>\n",
       "      <td>4.200000</td>\n",
       "      <td>4.274194</td>\n",
       "    </tr>\n",
       "    <tr>\n",
       "      <th>80k-100k</th>\n",
       "      <td>4.260127</td>\n",
       "      <td>4.304762</td>\n",
       "      <td>4.252632</td>\n",
       "      <td>4.270313</td>\n",
       "    </tr>\n",
       "  </tbody>\n",
       "</table>\n",
       "</div>"
      ],
      "text/plain": [
       "Content Rating  Everyone  Everyone 10+  Mature 17+      Teen\n",
       "Bucket Size                                                 \n",
       "0k=20k          4.145730      4.247561    4.010582  4.182240\n",
       "20k-40k         4.200195      4.169811    4.156291  4.170432\n",
       "40k-60k         4.167083      4.263636    4.190476  4.237383\n",
       "60k-80k         4.245408      4.280769    4.200000  4.274194\n",
       "80k-100k        4.260127      4.304762    4.252632  4.270313"
      ]
     },
     "execution_count": 118,
     "metadata": {},
     "output_type": "execute_result"
    }
   ],
   "source": [
    "#Dividing the data into 5 parts 20K each and ploting them with content rating\n",
    "bins=[0,20000, 40000, 60000, 80000, 100000]\n",
    "data['Bucket Size'] = pd.cut(data['Size'], bins, labels=['0k=20k','20k-40k','40k-60k','60k-80k','80k-100k'])\n",
    "temp=pd.pivot_table(data, values='Rating', index='Bucket Size', columns='Content Rating')\n",
    "temp"
   ]
  },
  {
   "cell_type": "markdown",
   "id": "8fef033d",
   "metadata": {},
   "source": [
    "  b. By Content Rating vs. Size buckets, get the rating (20th percentile) for each combination"
   ]
  },
  {
   "cell_type": "code",
   "execution_count": 119,
   "id": "0dc59a0f",
   "metadata": {},
   "outputs": [
    {
     "data": {
      "text/plain": [
       "5000.0"
      ]
     },
     "execution_count": 119,
     "metadata": {},
     "output_type": "execute_result"
    }
   ],
   "source": [
    "#printing the 20th persentile for each part\n",
    "persentile=data['Installs'].quantile(0.2)\n",
    "persentile"
   ]
  },
  {
   "cell_type": "markdown",
   "id": "69440fa7",
   "metadata": {},
   "source": [
    "  C. Make a heatmap of this"
   ]
  },
  {
   "cell_type": "markdown",
   "id": "d2a72e5d",
   "metadata": {},
   "source": [
    "    i. Annotated"
   ]
  },
  {
   "cell_type": "code",
   "execution_count": 121,
   "id": "2edac015",
   "metadata": {},
   "outputs": [
    {
     "data": {
      "text/plain": [
       "<AxesSubplot:xlabel='Content Rating', ylabel='Bucket Size'>"
      ]
     },
     "execution_count": 121,
     "metadata": {},
     "output_type": "execute_result"
    },
    {
     "data": {
      "image/png": "[encoded data removed]",
      "text/plain": [
       "<Figure size 432x288 with 2 Axes>"
      ]
     },
     "metadata": {},
     "output_type": "display_data"
    }
   ],
   "source": [
    "sns.heatmap(temp, annot=True, linewidths=.5)"
   ]
  },
  {
   "cell_type": "markdown",
   "id": "1019d9c5",
   "metadata": {},
   "source": [
    "    ii. Greens color map"
   ]
  },
  {
   "cell_type": "code",
   "execution_count": 123,
   "id": "7390b68e",
   "metadata": {},
   "outputs": [
    {
     "data": {
      "text/plain": [
       "<AxesSubplot:xlabel='Content Rating', ylabel='Bucket Size'>"
      ]
     },
     "execution_count": 123,
     "metadata": {},
     "output_type": "execute_result"
    },
    {
     "data": {
      "image/png": "[encoded data removed]",
      "text/plain": [
       "<Figure size 432x288 with 2 Axes>"
      ]
     },
     "metadata": {},
     "output_type": "display_data"
    }
   ],
   "source": [
    "sns.heatmap(temp, annot=True, linewidths=.5,cmap='Greens')"
   ]
  },
  {
   "cell_type": "markdown",
   "id": "0399a16e",
   "metadata": {},
   "source": [
    "  d. What’s your inference? Are lighter apps preferred in all    categories? Heavier? Some?"
   ]
  },
  {
   "cell_type": "markdown",
   "id": "4175ff9f",
   "metadata": {},
   "source": [
    "=>In general we can counclude that heavier apps are prefferred in all categories"
   ]
  },
  {
   "cell_type": "code",
   "execution_count": null,
   "id": "66f936b9",
   "metadata": {},
   "outputs": [],
   "source": []
  }
 ],
 "metadata": {
  "kernelspec": {
   "display_name": "Python 3 (ipykernel)",
   "language": "python",
   "name": "python3"
  },
  "language_info": {
   "codemirror_mode": {
    "name": "ipython",
    "version": 3
   },
   "file_extension": ".py",
   "mimetype": "text/x-python",
   "name": "python",
   "nbconvert_exporter": "python",
   "pygments_lexer": "ipython3",
   "version": "3.9.7"
  }
 },
 "nbformat": 4,
 "nbformat_minor": 5
}
